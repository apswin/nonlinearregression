{
 "cells": [
  {
   "cell_type": "code",
   "execution_count": 102,
   "metadata": {},
   "outputs": [],
   "source": [
    "import pandas as pd\n",
    "import numpy as np\n",
    "from sklearn import datasets, linear_model\n",
    "import math"
   ]
  },
  {
   "cell_type": "code",
   "execution_count": 103,
   "metadata": {},
   "outputs": [],
   "source": [
    "raw_data = pd.read_excel(\"adoptionseries2_with_noise.xlsx\")"
   ]
  },
  {
   "cell_type": "code",
   "execution_count": 104,
   "metadata": {},
   "outputs": [],
   "source": [
    "raw_data['A(t)'] = 0\n",
    "raw_data['A(t)^2'] = 0"
   ]
  },
  {
   "cell_type": "code",
   "execution_count": 105,
   "metadata": {},
   "outputs": [],
   "source": [
    "l = raw_data.shape[0]\n",
    "for i in range(1,l):\n",
    "    raw_data.iloc[i,2] =raw_data.iloc[i-1,2] + raw_data.iloc[i-1,1]\n",
    "    raw_data.iloc[i,3] =(raw_data.iloc[i,2])**2"
   ]
  },
  {
   "cell_type": "code",
   "execution_count": 106,
   "metadata": {},
   "outputs": [],
   "source": [
    "X = raw_data.iloc[:,2:4]\n",
    "Y = raw_data.iloc[:,1]"
   ]
  },
  {
   "cell_type": "code",
   "execution_count": 107,
   "metadata": {},
   "outputs": [
    {
     "name": "stdout",
     "output_type": "stream",
     "text": [
      "Coefficients: \n",
      " [ 0.21130508 -0.00622291]\n",
      "Intercept: \n",
      " 0.09607195064567414\n"
     ]
    }
   ],
   "source": [
    "# Create linear regression object\n",
    "regr = linear_model.LinearRegression()\n",
    "# Train the model using the training sets\n",
    "regr.fit(X,Y)\n",
    "# The coefficients\n",
    "print('Coefficients: \\n', regr.coef_)\n",
    "b = regr.coef_[0]\n",
    "c = regr.coef_[1]\n",
    "# The intercept\n",
    "print('Intercept: \\n', regr.intercept_)\n",
    "a = regr.intercept_"
   ]
  },
  {
   "cell_type": "code",
   "execution_count": 108,
   "metadata": {},
   "outputs": [],
   "source": [
    "def calPQM(a,b,c):\n",
    "   #p,q,m formulas\n",
    "    p = ((b**2-4*a*c)**0.5 -b)/2\n",
    "    q = ((b**2-4*a*c)**0.5 +b)/2\n",
    "    m = (-q)/c\n",
    "    return [p,q,m]"
   ]
  },
  {
   "cell_type": "code",
   "execution_count": 109,
   "metadata": {},
   "outputs": [
    {
     "name": "stdout",
     "output_type": "stream",
     "text": [
      "p= 0.0027924053944219235\n",
      "q= 0.21409748324219813\n",
      "m= 34.40472892567334\n"
     ]
    }
   ],
   "source": [
    "#Q1.1\n",
    "pqm = calPQM(a,b,c)\n",
    "print('p=', pqm[0])\n",
    "print('q=', pqm[1])\n",
    "print('m=', pqm[2])"
   ]
  },
  {
   "cell_type": "code",
   "execution_count": 110,
   "metadata": {},
   "outputs": [],
   "source": [
    "def calN(n,p,q,M):\n",
    "    N = raw_data.iloc[13,1]\n",
    "    A = raw_data.iloc[13,2] \n",
    "    for i in range(14,n):\n",
    "        A = A + N\n",
    "        R = M - A\n",
    "        F = p + q*(A/M)\n",
    "        N = F*R\n",
    "    return N"
   ]
  },
  {
   "cell_type": "code",
   "execution_count": 111,
   "metadata": {},
   "outputs": [
    {
     "data": {
      "text/plain": [
       "0.9738414756158628"
      ]
     },
     "execution_count": 111,
     "metadata": {},
     "output_type": "execute_result"
    }
   ],
   "source": [
    "calN(30,pqm[0],pqm[1],pqm[2])"
   ]
  },
  {
   "cell_type": "code",
   "execution_count": 112,
   "metadata": {},
   "outputs": [],
   "source": [
    "#Q1.2\n",
    "from scipy.optimize import curve_fit\n",
    "def funcNL(x,p,q):\n",
    "    M=100\n",
    "    return M*p + (q-p)*x + (-q/M)*(x**2)"
   ]
  },
  {
   "cell_type": "code",
   "execution_count": 113,
   "metadata": {
    "scrolled": true
   },
   "outputs": [
    {
     "name": "stdout",
     "output_type": "stream",
     "text": [
      "p= 0.0010607266804784799\n",
      "q= 0.1936843961949751\n"
     ]
    }
   ],
   "source": [
    "popt, pcov = curve_fit(funcNL, raw_data.iloc[:,2], Y)\n",
    "p = popt[0]\n",
    "q=popt[1]\n",
    "\n",
    "print('p=', p)\n",
    "print('q=', q)"
   ]
  },
  {
   "cell_type": "code",
   "execution_count": 117,
   "metadata": {
    "scrolled": true
   },
   "outputs": [
    {
     "data": {
      "text/plain": [
       "4.484923224999516"
      ]
     },
     "execution_count": 117,
     "metadata": {},
     "output_type": "execute_result"
    }
   ],
   "source": [
    "#Q1.3\n",
    "N = calN(30,p,q,100)\n",
    "N"
   ]
  },
  {
   "cell_type": "code",
   "execution_count": 118,
   "metadata": {},
   "outputs": [],
   "source": [
    "#Q1.4\n",
    "def funcNL4(t,p,q):\n",
    "    M=100\n",
    "    expt = np.exp(-p*t-q*t)\n",
    "    exptn = np.exp(-p*(t-1)-q*(t-1))\n",
    "    return M*(1-expt)/(1+(q/p)*expt) - M*(1-exptn)/(1+(q/p)*exptn)"
   ]
  },
  {
   "cell_type": "code",
   "execution_count": 119,
   "metadata": {
    "scrolled": false
   },
   "outputs": [
    {
     "name": "stdout",
     "output_type": "stream",
     "text": [
      "p= 0.0009554495968537328\n",
      "q= 0.17857013493183876\n"
     ]
    }
   ],
   "source": [
    "popt, pcov = curve_fit(funcNL4, raw_data.iloc[:,0], Y)\n",
    "p = popt[0]\n",
    "q=popt[1]\n",
    "print('p=', p)\n",
    "print('q=', q)"
   ]
  },
  {
   "cell_type": "code",
   "execution_count": 120,
   "metadata": {},
   "outputs": [
    {
     "data": {
      "text/plain": [
       "4.504310624290653"
      ]
     },
     "execution_count": 120,
     "metadata": {},
     "output_type": "execute_result"
    }
   ],
   "source": [
    "funcNL4(30,p,q)"
   ]
  },
  {
   "cell_type": "code",
   "execution_count": 123,
   "metadata": {},
   "outputs": [],
   "source": [
    "# Q2\n",
    "import matplotlib.pyplot as plt"
   ]
  },
  {
   "cell_type": "code",
   "execution_count": 53,
   "metadata": {},
   "outputs": [],
   "source": [
    "def calABC(p,q,m):\n",
    "    a =m*q\n",
    "    b = q - p\n",
    "    c = -q/m\n",
    "    return [a,b,c]\n"
   ]
  },
  {
   "cell_type": "code",
   "execution_count": 57,
   "metadata": {},
   "outputs": [
    {
     "data": {
      "text/plain": [
       "[<matplotlib.lines.Line2D at 0x1ff86e8ca90>]"
      ]
     },
     "execution_count": 57,
     "metadata": {},
     "output_type": "execute_result"
    },
    {
     "data": {
      "image/png": "[encoded data removed]",
      "text/plain": [
       "<Figure size 432x288 with 1 Axes>"
      ]
     },
     "metadata": {
      "needs_background": "light"
     },
     "output_type": "display_data"
    }
   ],
   "source": [
    "abc = calABC(0.05,0.05,100)\n",
    "a = abc[0]\n",
    "b = abc[1]\n",
    "c = abc[2]\n",
    "plt.plot(calN(50))"
   ]
  },
  {
   "cell_type": "code",
   "execution_count": 58,
   "metadata": {},
   "outputs": [
    {
     "data": {
      "text/plain": [
       "[<matplotlib.lines.Line2D at 0x1ff86f38400>]"
      ]
     },
     "execution_count": 58,
     "metadata": {},
     "output_type": "execute_result"
    },
    {
     "data": {
      "image/png": "[encoded data removed]",
      "text/plain": [
       "<Figure size 432x288 with 1 Axes>"
      ]
     },
     "metadata": {
      "needs_background": "light"
     },
     "output_type": "display_data"
    }
   ],
   "source": [
    "abc = calABC(0.05-0.01,0.05+0.01,100)\n",
    "a = abc[0]\n",
    "b = abc[1]\n",
    "c = abc[2]\n",
    "plt.plot(calN(50))"
   ]
  },
  {
   "cell_type": "code",
   "execution_count": 59,
   "metadata": {},
   "outputs": [
    {
     "data": {
      "text/plain": [
       "[<matplotlib.lines.Line2D at 0x1ff86fab0b8>]"
      ]
     },
     "execution_count": 59,
     "metadata": {},
     "output_type": "execute_result"
    },
    {
     "data": {
      "image/png": "[encoded data removed]",
      "text/plain": [
       "<Figure size 432x288 with 1 Axes>"
      ]
     },
     "metadata": {
      "needs_background": "light"
     },
     "output_type": "display_data"
    }
   ],
   "source": [
    "abc = calABC(0.05+0.01,0.05-0.01,100)\n",
    "a = abc[0]\n",
    "b = abc[1]\n",
    "c = abc[2]\n",
    "plt.plot(calN(50))"
   ]
  },
  {
   "cell_type": "code",
   "execution_count": 60,
   "metadata": {},
   "outputs": [
    {
     "data": {
      "text/plain": [
       "[<matplotlib.lines.Line2D at 0x1ff8700f128>]"
      ]
     },
     "execution_count": 60,
     "metadata": {},
     "output_type": "execute_result"
    },
    {
     "data": {
      "image/png": "[encoded data removed]",
      "text/plain": [
       "<Figure size 432x288 with 1 Axes>"
      ]
     },
     "metadata": {
      "needs_background": "light"
     },
     "output_type": "display_data"
    }
   ],
   "source": [
    "abc = calABC(0.1,0.1,100)\n",
    "a = abc[0]\n",
    "b = abc[1]\n",
    "c = abc[2]\n",
    "plt.plot(calN(50))"
   ]
  },
  {
   "cell_type": "code",
   "execution_count": 61,
   "metadata": {},
   "outputs": [
    {
     "data": {
      "text/plain": [
       "[<matplotlib.lines.Line2D at 0x1ff87069320>]"
      ]
     },
     "execution_count": 61,
     "metadata": {},
     "output_type": "execute_result"
    },
    {
     "data": {
      "image/png": "[encoded data removed]",
      "text/plain": [
       "<Figure size 432x288 with 1 Axes>"
      ]
     },
     "metadata": {
      "needs_background": "light"
     },
     "output_type": "display_data"
    }
   ],
   "source": [
    "abc = calABC(0.1-0.01,0.1+0.01,100)\n",
    "a = abc[0]\n",
    "b = abc[1]\n",
    "c = abc[2]\n",
    "plt.plot(calN(50))"
   ]
  },
  {
   "cell_type": "code",
   "execution_count": 62,
   "metadata": {},
   "outputs": [
    {
     "data": {
      "text/plain": [
       "[<matplotlib.lines.Line2D at 0x1ff870c7470>]"
      ]
     },
     "execution_count": 62,
     "metadata": {},
     "output_type": "execute_result"
    },
    {
     "data": {
      "image/png": "[encoded data removed]",
      "text/plain": [
       "<Figure size 432x288 with 1 Axes>"
      ]
     },
     "metadata": {
      "needs_background": "light"
     },
     "output_type": "display_data"
    }
   ],
   "source": [
    "abc = calABC(0.1+0.01,0.1-0.01,100)\n",
    "a = abc[0]\n",
    "b = abc[1]\n",
    "c = abc[2]\n",
    "plt.plot(calN(50))"
   ]
  },
  {
   "cell_type": "code",
   "execution_count": 134,
   "metadata": {},
   "outputs": [
    {
     "name": "stderr",
     "output_type": "stream",
     "text": [
      "C:\\Users\\Apoorva\\Documents\\AnacondaInstallation\\lib\\site-packages\\ipykernel_launcher.py:6: RuntimeWarning: invalid value encountered in double_scalars\n",
      "  \n",
      "C:\\Users\\Apoorva\\Documents\\AnacondaInstallation\\lib\\site-packages\\ipykernel_launcher.py:6: RuntimeWarning: divide by zero encountered in double_scalars\n",
      "  \n"
     ]
    }
   ],
   "source": [
    "#Q4\n",
    "p_e = np.arange(0,1,0.1)\n",
    "q_e = np.arange(0,1,0.1)\n",
    "N = pd.DataFrame(np.zeros((100, 2)))\n",
    "c =0\n",
    "a_d = np.array([])\n",
    "a_c = np.array([])\n",
    "for p in p_e:\n",
    "    for q in q_e:\n",
    "        a_d = np.append(a_d,calN(30,p,q,100))\n",
    "        a_c = np.append(a_c,funcNL4(30,p,q))\n",
    "#         N.iloc[c,0] = calN(30,p,q,100)\n",
    "#         print(calN(30,p,q,100))\n",
    "#         N.iloc[c,1] = funcNL4(30,p,q)"
   ]
  },
  {
   "cell_type": "code",
   "execution_count": 138,
   "metadata": {},
   "outputs": [
    {
     "data": {
      "text/plain": [
       "[<matplotlib.lines.Line2D at 0x221d791bb38>]"
      ]
     },
     "execution_count": 138,
     "metadata": {},
     "output_type": "execute_result"
    },
    {
     "data": {
      "image/png": "[encoded data removed]",
      "text/plain": [
       "<Figure size 432x288 with 1 Axes>"
      ]
     },
     "metadata": {
      "needs_background": "light"
     },
     "output_type": "display_data"
    }
   ],
   "source": [
    "\n",
    "\n",
    "plt.plot(a_d-a_c)"
   ]
  }
 ],
 "metadata": {
  "kernelspec": {
   "display_name": "Python 3",
   "language": "python",
   "name": "python3"
  },
  "language_info": {
   "codemirror_mode": {
    "name": "ipython",
    "version": 3
   },
   "file_extension": ".py",
   "mimetype": "text/x-python",
   "name": "python",
   "nbconvert_exporter": "python",
   "pygments_lexer": "ipython3",
   "version": "3.7.3"
  }
 },
 "nbformat": 4,
 "nbformat_minor": 2
}
